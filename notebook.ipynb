{
 "cells": [
  {
   "cell_type": "markdown",
   "id": "26b888a9",
   "metadata": {},
   "source": [
    "# Proyek Analisis Data: Penggunaan Sepeda Berdasarkan Kelembapan dan RFM"
   ]
  },
  {
   "cell_type": "markdown",
   "id": "ceb817b3",
   "metadata": {},
   "source": [
    "- **Nama:** Abi Eka Putra Wulyono\n",
    "- **Email:** abiekapw@gmail.com\n",
    "- **ID Dicoding:** abi_eka_putra_we6p"
   ]
  },
  {
   "cell_type": "markdown",
   "id": "26499ff7",
   "metadata": {},
   "source": [
    "## 1. Menentukan Pertanyaan Bisnis"
   ]
  },
  {
   "cell_type": "markdown",
   "id": "0a8e99d1",
   "metadata": {},
   "source": [
    "### Pertanyaan 1: Bagaimana pengaruh kelembapan terhadap jumlah penyewaan sepeda?"
   ]
  },
  {
   "cell_type": "markdown",
   "id": "320e81d3",
   "metadata": {},
   "source": [
    "### Pertanyaan 2: Bagaimana perilaku penyewaan sepeda dapat diukur menggunakan analisis RFM (Recency, Frequency, Monetary)?"
   ]
  },
  {
   "cell_type": "markdown",
   "id": "a1523537",
   "metadata": {},
   "source": [
    "## 2. Import Semua Packages/Library yang Digunakan"
   ]
  },
  {
   "cell_type": "code",
   "execution_count": null,
   "id": "a110b8e6",
   "metadata": {},
   "outputs": [],
   "source": [
    "import pandas as pd\n",
    "import numpy as np\n",
    "import matplotlib.pyplot as plt\n",
    "import seaborn as sns\n",
    "import streamlit as st\n",
    "from sklearn.model_selection import train_test_split\n",
    "from sklearn.linear_model import LinearRegression"
   ]
  },
  {
   "cell_type": "markdown",
   "id": "23654db4",
   "metadata": {},
   "source": [
    "## 3. Data Wrangling"
   ]
  },
  {
   "cell_type": "markdown",
   "id": "1677557d",
   "metadata": {},
   "source": [
    "### Gathering Data\n",
    "Dataset penggunaan sepeda diambil dari sumber terbuka yang menyediakan data harian (`day.csv`) dan data jam (`hour.csv`)."
   ]
  },
  {
   "cell_type": "code",
   "execution_count": null,
   "id": "466feba6",
   "metadata": {},
   "outputs": [],
   "source": [
    "# Memuat dataset\n",
    "day_data = pd.read_csv('data/day.csv')\n",
    "hour_data = pd.read_csv('data/hour.csv')\n",
    "\n",
    "# Menampilkan beberapa data teratas\n",
    "day_data.head(), hour_data.head()"
   ]
  },
  {
   "cell_type": "markdown",
   "id": "7ec9a3bb",
   "metadata": {},
   "source": [
    "### Insight:"
   ]
  },
  {
   "cell_type": "markdown",
   "id": "473c0ef7",
   "metadata": {},
   "source": [
    "\n",
    "- Dataset berisi informasi harian dan per jam terkait faktor cuaca, kelembapan, serta jumlah pengguna terdaftar dan kasual.\n",
    "- Terdapat sekitar 730 baris data harian dan 17379 baris data jam yang mencakup informasi selama 2 tahun.\n",
    "    "
   ]
  },
  {
   "cell_type": "markdown",
   "id": "a469af9f",
   "metadata": {},
   "source": [
    "## 4. Assessing Data"
   ]
  },
  {
   "cell_type": "code",
   "execution_count": null,
   "id": "01e1a02c",
   "metadata": {},
   "outputs": [],
   "source": [
    "# Memeriksa nilai yang hilang dan tipe data\n",
    "day_data.info()\n",
    "hour_data.info()  "
   ]
  },
  {
   "cell_type": "markdown",
   "id": "4997e76b",
   "metadata": {},
   "source": [
    "### Insight:"
   ]
  },
  {
   "cell_type": "markdown",
   "id": "dbb3b58e",
   "metadata": {},
   "source": [
    "\n",
    "- Tidak ada nilai yang hilang dalam dataset.\n",
    "- Tipe data untuk masing-masing kolom sudah sesuai.\n",
    "    "
   ]
  },
  {
   "cell_type": "markdown",
   "id": "fdb7df38",
   "metadata": {},
   "source": [
    "## 5. Cleaning Data"
   ]
  },
  {
   "cell_type": "code",
   "execution_count": null,
   "id": "7140d48f",
   "metadata": {},
   "outputs": [],
   "source": [
    "# Menghapus kolom yang tidak relevan dan mengecek duplikasi\n",
    "day_data_cleaned = day_data.drop(columns=['instant'])\n",
    "hour_data_cleaned = hour_data.drop(columns=['instant'])\n",
    "\n",
    "# Menghapus duplikasi\n",
    "day_data_cleaned = day_data_cleaned.drop_duplicates()\n",
    "hour_data_cleaned = hour_data_cleaned.drop_duplicates()\n",
    "\n",
    "day_data_cleaned.head()"
   ]
  },
  {
   "cell_type": "markdown",
   "id": "482b1279",
   "metadata": {},
   "source": [
    "### Insight:"
   ]
  },
  {
   "cell_type": "markdown",
   "id": "27ada864",
   "metadata": {},
   "source": [
    "\n",
    "- Kolom 'instant' telah dihapus, dan tidak ditemukan data duplikat.\n",
    "- Data siap digunakan untuk analisis lebih lanjut.\n",
    "    "
   ]
  },
  {
   "cell_type": "markdown",
   "id": "26cf2812",
   "metadata": {},
   "source": [
    "## 6. Exploratory Data Analysis (EDA)"
   ]
  },
  {
   "cell_type": "markdown",
   "id": "7616cfba",
   "metadata": {},
   "source": [
    "### Explore: Pengaruh Kelembapan Terhadap Penyewaan Sepeda"
   ]
  },
  {
   "cell_type": "code",
   "execution_count": null,
   "id": "889f0539",
   "metadata": {},
   "outputs": [],
   "source": [
    "# Menambahkan kategori kelembapan berdasarkan nilai 'hum'\n",
    "bins = [0, 0.3, 0.6, 1.0]\n",
    "labels = ['Kering', 'Normal', 'Lembap']\n",
    "hour_data_cleaned['humidity_category'] = pd.cut(hour_data_cleaned['hum'], bins=bins, labels=labels)\n",
    "\n",
    "# Mengelompokkan data berdasarkan kelembapan dan menghitung total penyewaan\n",
    "humidity_group = hour_data_cleaned.groupby('humidity_category', observed=True).agg(total_usage=('cnt', 'sum')).reset_index()\n",
    "\n",
    "# Visualisasi kategori kelembapan\n",
    "sns.set_style('whitegrid')\n",
    "plt.figure(figsize=(10, 6))\n",
    "sns.barplot(data=humidity_group, x='humidity_category', y='total_usage', hue='humidity_category', palette='coolwarm', legend=False)\n",
    "plt.title('Total Penggunaan Sepeda Berdasarkan Kelembapan', fontsize=14)\n",
    "plt.xlabel('Kategori Kelembapan', fontsize=12)\n",
    "plt.ylabel('Total Penggunaan Sepeda', fontsize=12)\n",
    "plt.show()"
   ]
  },
  {
   "cell_type": "markdown",
   "id": "58451f0d",
   "metadata": {},
   "source": [
    "### Insight:"
   ]
  },
  {
   "cell_type": "markdown",
   "id": "46e616b3",
   "metadata": {},
   "source": [
    "\n",
    "- Kelembapan normal (30-60%) memiliki tingkat penyewaan sepeda tertinggi.\n",
    "- Kelembapan yang terlalu rendah atau terlalu tinggi tidak ideal untuk penyewaan sepeda.\n",
    "    "
   ]
  },
  {
   "cell_type": "markdown",
   "id": "7b045cf7",
   "metadata": {},
   "source": [
    "## 7. Visualization & Explanatory Analysis"
   ]
  },
  {
   "cell_type": "markdown",
   "id": "f9c42313",
   "metadata": {},
   "source": [
    "### Pertanyaan 1: Bagaimana pengaruh kelembapan terhadap jumlah penyewaan sepeda?"
   ]
  },
  {
   "cell_type": "code",
   "execution_count": null,
   "id": "c34db63b",
   "metadata": {},
   "outputs": [],
   "source": [
    "# Visualisasi pengaruh kelembapan\n",
    "humidity_group.plot(kind='bar', x='humidity_category', y='total_usage')"
   ]
  },
  {
   "cell_type": "markdown",
   "id": "21cc76aa",
   "metadata": {},
   "source": [
    "### Pertanyaan 2: Bagaimana perilaku penyewaan sepeda dapat diukur menggunakan analisis RFM?"
   ]
  },
  {
   "cell_type": "code",
   "execution_count": null,
   "id": "7a54ba6f",
   "metadata": {},
   "outputs": [],
   "source": [
    "# Analisis RFM\n",
    "current_date = pd.to_datetime(max(day_data_cleaned['dteday']))\n",
    "\n",
    "# Menghitung Recency, Frequency, Monetary\n",
    "rfm_data = day_data_cleaned.groupby('registered').agg({\n",
    "    'dteday': lambda x: (pd.to_datetime(current_date) - pd.to_datetime(x.max())).days,  # Recency\n",
    "    'cnt': 'sum',  # Monetary\n",
    "    'instant': 'count'  # Frequency\n",
    "}).reset_index()\n",
    "\n",
    "# Menampilkan data RFM\n",
    "rfm_data.columns = ['registered', 'Recency', 'Monetary', 'Frequency']\n",
    "rfm_data.head()"
   ]
  },
  {
   "cell_type": "markdown",
   "id": "499cad7d",
   "metadata": {},
   "source": [
    "### Insight:"
   ]
  },
  {
   "cell_type": "markdown",
   "id": "75b1a122",
   "metadata": {},
   "source": [
    "\n",
    "- Pengguna terdaftar menyumbang lebih banyak penyewaan dan memiliki frekuensi yang lebih tinggi dibandingkan pengguna kasual.\n",
    "    "
   ]
  },
  {
   "cell_type": "markdown",
   "id": "bd1ac805",
   "metadata": {},
   "source": [
    "## 8. Analisis Lanjutan"
   ]
  },
  {
   "cell_type": "code",
   "execution_count": null,
   "id": "aa1753d4",
   "metadata": {},
   "outputs": [],
   "source": [
    "# Contoh model prediksi dengan Linear Regression\n",
    "X = day_data_cleaned[['hum', 'temp']]\n",
    "y = day_data_cleaned['cnt']\n",
    "\n",
    "# Memisahkan data untuk training dan testing\n",
    "X_train, X_test, y_train, y_test = train_test_split(X, y, test_size=0.2, random_state=42)\n",
    "\n",
    "# Membuat dan melatih model\n",
    "model = LinearRegression()\n",
    "model.fit(X_train, y_train)\n",
    "\n",
    "# Prediksi dan evaluasi\n",
    "predictions = model.predict(X_test)\n",
    "print(predictions)"
   ]
  },
  {
   "cell_type": "markdown",
   "id": "7446823a",
   "metadata": {},
   "source": [
    "## 9. Conclusion"
   ]
  },
  {
   "cell_type": "markdown",
   "id": "b517556f",
   "metadata": {},
   "source": [
    "\n",
    "- **Pertanyaan 1:** Kelembapan yang lebih normal memberikan kondisi terbaik untuk penyewaan sepeda.\n",
    "- **Pertanyaan 2:** Analisis RFM menunjukkan bahwa pengguna terdaftar lebih aktif dalam hal frekuensi penyewaan dan memberikan kontribusi yang lebih besar terhadap total penyewaan.\n",
    "    "
   ]
  }
 ],
 "metadata": {
  "language_info": {
   "name": "python"
  }
 },
 "nbformat": 4,
 "nbformat_minor": 5
}
