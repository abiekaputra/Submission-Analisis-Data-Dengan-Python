{
 "cells": [
  {
   "cell_type": "markdown",
   "id": "26b888a9",
   "metadata": {},
   "source": [
    "# Proyek Analisis Data: Penggunaan Sepeda Berdasarkan Kelembapan dan RFM"
   ]
  },
  {
   "cell_type": "markdown",
   "id": "ceb817b3",
   "metadata": {},
   "source": [
    "- **Nama:** Abi Eka Putra Wulyono\n",
    "- **Email:** abiekapw@gmail.com\n",
    "- **ID Dicoding:** abi_eka_putra_we6p"
   ]
  },
  {
   "cell_type": "markdown",
   "id": "26499ff7",
   "metadata": {},
   "source": [
    "## 1. Menentukan Pertanyaan Bisnis"
   ]
  },
  {
   "cell_type": "markdown",
   "id": "0a8e99d1",
   "metadata": {},
   "source": [
    "### Pertanyaan 1: Bagaimana pengaruh kelembapan terhadap jumlah penyewaan sepeda?"
   ]
  },
  {
   "cell_type": "markdown",
   "id": "320e81d3",
   "metadata": {},
   "source": [
    "### Pertanyaan 2: Bagaimana perilaku penyewaan sepeda dapat diukur menggunakan analisis RFM (Recency, Frequency, Monetary)?"
   ]
  },
  {
   "cell_type": "markdown",
   "id": "a1523537",
   "metadata": {},
   "source": [
    "## 2. Import Semua Packages/Library yang Digunakan"
   ]
  },
  {
   "cell_type": "code",
   "execution_count": 53,
   "id": "a110b8e6",
   "metadata": {},
   "outputs": [],
   "source": [
    "import pandas as pd\n",
    "import numpy as np\n",
    "import matplotlib.pyplot as plt\n",
    "import seaborn as sns\n",
    "import streamlit as st\n",
    "import sklearn\n",
    "from sklearn.model_selection import train_test_split\n",
    "from sklearn.linear_model import LinearRegression"
   ]
  },
  {
   "cell_type": "markdown",
   "id": "23654db4",
   "metadata": {},
   "source": [
    "## 3. Data Wrangling"
   ]
  },
  {
   "cell_type": "markdown",
   "id": "1677557d",
   "metadata": {},
   "source": [
    "### Gathering Data\n",
    "Dataset penggunaan sepeda diambil dari sumber terbuka yang menyediakan data harian (`day.csv`) dan data jam (`hour.csv`)."
   ]
  },
  {
   "cell_type": "code",
   "execution_count": 54,
   "id": "466feba6",
   "metadata": {},
   "outputs": [
    {
     "data": {
      "text/plain": [
       "(   instant      dteday  season  yr  mnth  holiday  weekday  workingday  \\\n",
       " 0        1  2011-01-01       1   0     1        0        6           0   \n",
       " 1        2  2011-01-02       1   0     1        0        0           0   \n",
       " 2        3  2011-01-03       1   0     1        0        1           1   \n",
       " 3        4  2011-01-04       1   0     1        0        2           1   \n",
       " 4        5  2011-01-05       1   0     1        0        3           1   \n",
       " \n",
       "    weathersit      temp     atemp       hum  windspeed  casual  registered  \\\n",
       " 0           2  0.344167  0.363625  0.805833   0.160446     331         654   \n",
       " 1           2  0.363478  0.353739  0.696087   0.248539     131         670   \n",
       " 2           1  0.196364  0.189405  0.437273   0.248309     120        1229   \n",
       " 3           1  0.200000  0.212122  0.590435   0.160296     108        1454   \n",
       " 4           1  0.226957  0.229270  0.436957   0.186900      82        1518   \n",
       " \n",
       "     cnt  total_usage  recency  \n",
       " 0   985          985      730  \n",
       " 1   801          801      729  \n",
       " 2  1349         1349      728  \n",
       " 3  1562         1562      727  \n",
       " 4  1600         1600      726  ,\n",
       "    instant      dteday  season  yr  mnth  hr  holiday  weekday  workingday  \\\n",
       " 0        1  2011-01-01       1   0     1   0        0        6           0   \n",
       " 1        2  2011-01-01       1   0     1   1        0        6           0   \n",
       " 2        3  2011-01-01       1   0     1   2        0        6           0   \n",
       " 3        4  2011-01-01       1   0     1   3        0        6           0   \n",
       " 4        5  2011-01-01       1   0     1   4        0        6           0   \n",
       " \n",
       "    weathersit  temp   atemp   hum  windspeed  casual  registered  cnt  \n",
       " 0           1  0.24  0.2879  0.81        0.0       3          13   16  \n",
       " 1           1  0.22  0.2727  0.80        0.0       8          32   40  \n",
       " 2           1  0.22  0.2727  0.80        0.0       5          27   32  \n",
       " 3           1  0.24  0.2879  0.75        0.0       3          10   13  \n",
       " 4           1  0.24  0.2879  0.75        0.0       0           1    1  )"
      ]
     },
     "execution_count": 54,
     "metadata": {},
     "output_type": "execute_result"
    }
   ],
   "source": [
    "# Memuat dataset\n",
    "day_data = pd.read_csv('data/day.csv')\n",
    "hour_data = pd.read_csv('data/hour.csv')\n",
    "\n",
    "# Menampilkan beberapa data teratas\n",
    "day_data.head(), hour_data.head()"
   ]
  },
  {
   "cell_type": "markdown",
   "id": "7ec9a3bb",
   "metadata": {},
   "source": [
    "### Insight:"
   ]
  },
  {
   "cell_type": "markdown",
   "id": "473c0ef7",
   "metadata": {},
   "source": [
    "\n",
    "- Dataset berisi informasi harian dan per jam terkait faktor cuaca, kelembapan, serta jumlah pengguna terdaftar dan kasual.\n",
    "- Terdapat sekitar 730 baris data harian dan 17379 baris data jam yang mencakup informasi selama 2 tahun.\n",
    "    "
   ]
  },
  {
   "cell_type": "markdown",
   "id": "a469af9f",
   "metadata": {},
   "source": [
    "## 4. Assessing Data"
   ]
  },
  {
   "cell_type": "code",
   "execution_count": 55,
   "id": "01e1a02c",
   "metadata": {},
   "outputs": [
    {
     "name": "stdout",
     "output_type": "stream",
     "text": [
      "<class 'pandas.core.frame.DataFrame'>\n",
      "RangeIndex: 731 entries, 0 to 730\n",
      "Data columns (total 18 columns):\n",
      " #   Column       Non-Null Count  Dtype  \n",
      "---  ------       --------------  -----  \n",
      " 0   instant      731 non-null    int64  \n",
      " 1   dteday       731 non-null    object \n",
      " 2   season       731 non-null    int64  \n",
      " 3   yr           731 non-null    int64  \n",
      " 4   mnth         731 non-null    int64  \n",
      " 5   holiday      731 non-null    int64  \n",
      " 6   weekday      731 non-null    int64  \n",
      " 7   workingday   731 non-null    int64  \n",
      " 8   weathersit   731 non-null    int64  \n",
      " 9   temp         731 non-null    float64\n",
      " 10  atemp        731 non-null    float64\n",
      " 11  hum          731 non-null    float64\n",
      " 12  windspeed    731 non-null    float64\n",
      " 13  casual       731 non-null    int64  \n",
      " 14  registered   731 non-null    int64  \n",
      " 15  cnt          731 non-null    int64  \n",
      " 16  total_usage  731 non-null    int64  \n",
      " 17  recency      731 non-null    int64  \n",
      "dtypes: float64(4), int64(13), object(1)\n",
      "memory usage: 102.9+ KB\n",
      "<class 'pandas.core.frame.DataFrame'>\n",
      "RangeIndex: 17379 entries, 0 to 17378\n",
      "Data columns (total 17 columns):\n",
      " #   Column      Non-Null Count  Dtype  \n",
      "---  ------      --------------  -----  \n",
      " 0   instant     17379 non-null  int64  \n",
      " 1   dteday      17379 non-null  object \n",
      " 2   season      17379 non-null  int64  \n",
      " 3   yr          17379 non-null  int64  \n",
      " 4   mnth        17379 non-null  int64  \n",
      " 5   hr          17379 non-null  int64  \n",
      " 6   holiday     17379 non-null  int64  \n",
      " 7   weekday     17379 non-null  int64  \n",
      " 8   workingday  17379 non-null  int64  \n",
      " 9   weathersit  17379 non-null  int64  \n",
      " 10  temp        17379 non-null  float64\n",
      " 11  atemp       17379 non-null  float64\n",
      " 12  hum         17379 non-null  float64\n",
      " 13  windspeed   17379 non-null  float64\n",
      " 14  casual      17379 non-null  int64  \n",
      " 15  registered  17379 non-null  int64  \n",
      " 16  cnt         17379 non-null  int64  \n",
      "dtypes: float64(4), int64(12), object(1)\n",
      "memory usage: 2.3+ MB\n"
     ]
    }
   ],
   "source": [
    "# Memeriksa nilai yang hilang dan tipe data\n",
    "day_data.info()\n",
    "hour_data.info()  "
   ]
  },
  {
   "cell_type": "markdown",
   "id": "4997e76b",
   "metadata": {},
   "source": [
    "### Insight:"
   ]
  },
  {
   "cell_type": "markdown",
   "id": "dbb3b58e",
   "metadata": {},
   "source": [
    "\n",
    "- Tidak ada nilai yang hilang dalam dataset.\n",
    "- Tipe data untuk masing-masing kolom sudah sesuai.\n",
    "    "
   ]
  },
  {
   "cell_type": "markdown",
   "id": "fdb7df38",
   "metadata": {},
   "source": [
    "## 5. Cleaning Data"
   ]
  },
  {
   "cell_type": "code",
   "execution_count": 56,
   "id": "7140d48f",
   "metadata": {},
   "outputs": [
    {
     "data": {
      "text/html": [
       "<div>\n",
       "<style scoped>\n",
       "    .dataframe tbody tr th:only-of-type {\n",
       "        vertical-align: middle;\n",
       "    }\n",
       "\n",
       "    .dataframe tbody tr th {\n",
       "        vertical-align: top;\n",
       "    }\n",
       "\n",
       "    .dataframe thead th {\n",
       "        text-align: right;\n",
       "    }\n",
       "</style>\n",
       "<table border=\"1\" class=\"dataframe\">\n",
       "  <thead>\n",
       "    <tr style=\"text-align: right;\">\n",
       "      <th></th>\n",
       "      <th>dteday</th>\n",
       "      <th>season</th>\n",
       "      <th>yr</th>\n",
       "      <th>mnth</th>\n",
       "      <th>holiday</th>\n",
       "      <th>weekday</th>\n",
       "      <th>workingday</th>\n",
       "      <th>weathersit</th>\n",
       "      <th>temp</th>\n",
       "      <th>atemp</th>\n",
       "      <th>hum</th>\n",
       "      <th>windspeed</th>\n",
       "      <th>casual</th>\n",
       "      <th>registered</th>\n",
       "      <th>cnt</th>\n",
       "      <th>total_usage</th>\n",
       "      <th>recency</th>\n",
       "    </tr>\n",
       "  </thead>\n",
       "  <tbody>\n",
       "    <tr>\n",
       "      <th>0</th>\n",
       "      <td>2011-01-01</td>\n",
       "      <td>1</td>\n",
       "      <td>0</td>\n",
       "      <td>1</td>\n",
       "      <td>0</td>\n",
       "      <td>6</td>\n",
       "      <td>0</td>\n",
       "      <td>2</td>\n",
       "      <td>0.344167</td>\n",
       "      <td>0.363625</td>\n",
       "      <td>0.805833</td>\n",
       "      <td>0.160446</td>\n",
       "      <td>331</td>\n",
       "      <td>654</td>\n",
       "      <td>985</td>\n",
       "      <td>985</td>\n",
       "      <td>730</td>\n",
       "    </tr>\n",
       "    <tr>\n",
       "      <th>1</th>\n",
       "      <td>2011-01-02</td>\n",
       "      <td>1</td>\n",
       "      <td>0</td>\n",
       "      <td>1</td>\n",
       "      <td>0</td>\n",
       "      <td>0</td>\n",
       "      <td>0</td>\n",
       "      <td>2</td>\n",
       "      <td>0.363478</td>\n",
       "      <td>0.353739</td>\n",
       "      <td>0.696087</td>\n",
       "      <td>0.248539</td>\n",
       "      <td>131</td>\n",
       "      <td>670</td>\n",
       "      <td>801</td>\n",
       "      <td>801</td>\n",
       "      <td>729</td>\n",
       "    </tr>\n",
       "    <tr>\n",
       "      <th>2</th>\n",
       "      <td>2011-01-03</td>\n",
       "      <td>1</td>\n",
       "      <td>0</td>\n",
       "      <td>1</td>\n",
       "      <td>0</td>\n",
       "      <td>1</td>\n",
       "      <td>1</td>\n",
       "      <td>1</td>\n",
       "      <td>0.196364</td>\n",
       "      <td>0.189405</td>\n",
       "      <td>0.437273</td>\n",
       "      <td>0.248309</td>\n",
       "      <td>120</td>\n",
       "      <td>1229</td>\n",
       "      <td>1349</td>\n",
       "      <td>1349</td>\n",
       "      <td>728</td>\n",
       "    </tr>\n",
       "    <tr>\n",
       "      <th>3</th>\n",
       "      <td>2011-01-04</td>\n",
       "      <td>1</td>\n",
       "      <td>0</td>\n",
       "      <td>1</td>\n",
       "      <td>0</td>\n",
       "      <td>2</td>\n",
       "      <td>1</td>\n",
       "      <td>1</td>\n",
       "      <td>0.200000</td>\n",
       "      <td>0.212122</td>\n",
       "      <td>0.590435</td>\n",
       "      <td>0.160296</td>\n",
       "      <td>108</td>\n",
       "      <td>1454</td>\n",
       "      <td>1562</td>\n",
       "      <td>1562</td>\n",
       "      <td>727</td>\n",
       "    </tr>\n",
       "    <tr>\n",
       "      <th>4</th>\n",
       "      <td>2011-01-05</td>\n",
       "      <td>1</td>\n",
       "      <td>0</td>\n",
       "      <td>1</td>\n",
       "      <td>0</td>\n",
       "      <td>3</td>\n",
       "      <td>1</td>\n",
       "      <td>1</td>\n",
       "      <td>0.226957</td>\n",
       "      <td>0.229270</td>\n",
       "      <td>0.436957</td>\n",
       "      <td>0.186900</td>\n",
       "      <td>82</td>\n",
       "      <td>1518</td>\n",
       "      <td>1600</td>\n",
       "      <td>1600</td>\n",
       "      <td>726</td>\n",
       "    </tr>\n",
       "  </tbody>\n",
       "</table>\n",
       "</div>"
      ],
      "text/plain": [
       "       dteday  season  yr  mnth  holiday  weekday  workingday  weathersit  \\\n",
       "0  2011-01-01       1   0     1        0        6           0           2   \n",
       "1  2011-01-02       1   0     1        0        0           0           2   \n",
       "2  2011-01-03       1   0     1        0        1           1           1   \n",
       "3  2011-01-04       1   0     1        0        2           1           1   \n",
       "4  2011-01-05       1   0     1        0        3           1           1   \n",
       "\n",
       "       temp     atemp       hum  windspeed  casual  registered   cnt  \\\n",
       "0  0.344167  0.363625  0.805833   0.160446     331         654   985   \n",
       "1  0.363478  0.353739  0.696087   0.248539     131         670   801   \n",
       "2  0.196364  0.189405  0.437273   0.248309     120        1229  1349   \n",
       "3  0.200000  0.212122  0.590435   0.160296     108        1454  1562   \n",
       "4  0.226957  0.229270  0.436957   0.186900      82        1518  1600   \n",
       "\n",
       "   total_usage  recency  \n",
       "0          985      730  \n",
       "1          801      729  \n",
       "2         1349      728  \n",
       "3         1562      727  \n",
       "4         1600      726  "
      ]
     },
     "execution_count": 56,
     "metadata": {},
     "output_type": "execute_result"
    }
   ],
   "source": [
    "# Menghapus kolom yang tidak relevan dan mengecek duplikasi\n",
    "day_data_cleaned = day_data.drop(columns=['instant'])\n",
    "hour_data_cleaned = hour_data.drop(columns=['instant'])\n",
    "\n",
    "# Menghapus duplikasi\n",
    "day_data_cleaned = day_data_cleaned.drop_duplicates()\n",
    "hour_data_cleaned = hour_data_cleaned.drop_duplicates()\n",
    "\n",
    "day_data_cleaned.head()"
   ]
  },
  {
   "cell_type": "markdown",
   "id": "482b1279",
   "metadata": {},
   "source": [
    "### Insight:"
   ]
  },
  {
   "cell_type": "markdown",
   "id": "27ada864",
   "metadata": {},
   "source": [
    "\n",
    "- Kolom 'instant' telah dihapus, dan tidak ditemukan data duplikat.\n",
    "- Data siap digunakan untuk analisis lebih lanjut.\n",
    "    "
   ]
  },
  {
   "cell_type": "markdown",
   "id": "26cf2812",
   "metadata": {},
   "source": [
    "## 6. Exploratory Data Analysis (EDA)"
   ]
  },
  {
   "cell_type": "markdown",
   "id": "7616cfba",
   "metadata": {},
   "source": [
    "### Explore: Pengaruh Kelembapan Terhadap Penyewaan Sepeda"
   ]
  },
  {
   "cell_type": "code",
   "execution_count": 57,
   "id": "889f0539",
   "metadata": {},
   "outputs": [
    {
     "data": {
      "image/png": "[encoded data removed]",
      "text/plain": [
       "<Figure size 1000x600 with 1 Axes>"
      ]
     },
     "metadata": {},
     "output_type": "display_data"
    }
   ],
   "source": [
    "# Menambahkan kategori kelembapan berdasarkan nilai 'hum'\n",
    "bins = [0, 0.3, 0.6, 1.0]\n",
    "labels = ['Kering', 'Normal', 'Lembap']\n",
    "hour_data_cleaned['humidity_category'] = pd.cut(hour_data_cleaned['hum'], bins=bins, labels=labels)\n",
    "\n",
    "# Mengelompokkan data berdasarkan kelembapan dan menghitung total penyewaan\n",
    "humidity_group = hour_data_cleaned.groupby('humidity_category', observed=True).agg(total_usage=('cnt', 'sum')).reset_index()\n",
    "\n",
    "# Visualisasi kategori kelembapan\n",
    "sns.set_style('whitegrid')\n",
    "plt.figure(figsize=(10, 6))\n",
    "sns.barplot(data=humidity_group, x='humidity_category', y='total_usage', hue='humidity_category', palette='coolwarm', legend=False)\n",
    "plt.title('Total Penggunaan Sepeda Berdasarkan Kelembapan', fontsize=14)\n",
    "plt.xlabel('Kategori Kelembapan', fontsize=12)\n",
    "plt.ylabel('Total Penggunaan Sepeda', fontsize=12)\n",
    "plt.show()"
   ]
  },
  {
   "cell_type": "markdown",
   "id": "58451f0d",
   "metadata": {},
   "source": [
    "### Insight:"
   ]
  },
  {
   "cell_type": "markdown",
   "id": "46e616b3",
   "metadata": {},
   "source": [
    "\n",
    "- Kelembapan normal (30-60%) memiliki tingkat penyewaan sepeda tertinggi.\n",
    "- Kelembapan yang terlalu rendah atau terlalu tinggi tidak ideal untuk penyewaan sepeda.\n",
    "    "
   ]
  },
  {
   "cell_type": "markdown",
   "id": "7b045cf7",
   "metadata": {},
   "source": [
    "## 7. Visualization & Explanatory Analysis"
   ]
  },
  {
   "cell_type": "markdown",
   "id": "f9c42313",
   "metadata": {},
   "source": [
    "### Pertanyaan 1: Bagaimana pengaruh kelembapan terhadap jumlah penyewaan sepeda?"
   ]
  },
  {
   "cell_type": "code",
   "execution_count": 58,
   "id": "c34db63b",
   "metadata": {},
   "outputs": [
    {
     "data": {
      "text/plain": [
       "<Axes: xlabel='humidity_category'>"
      ]
     },
     "execution_count": 58,
     "metadata": {},
     "output_type": "execute_result"
    },
    {
     "data": {
      "image/png": "[encoded data removed]",
      "text/plain": [
       "<Figure size 640x480 with 1 Axes>"
      ]
     },
     "metadata": {},
     "output_type": "display_data"
    }
   ],
   "source": [
    "# Visualisasi pengaruh kelembapan\n",
    "humidity_group.plot(kind='bar', x='humidity_category', y='total_usage')"
   ]
  },
  {
   "cell_type": "markdown",
   "id": "21cc76aa",
   "metadata": {},
   "source": [
    "### Pertanyaan 2: Bagaimana perilaku penyewaan sepeda dapat diukur menggunakan analisis RFM?"
   ]
  },
  {
   "cell_type": "code",
   "execution_count": 59,
   "id": "7a54ba6f",
   "metadata": {},
   "outputs": [
    {
     "data": {
      "text/html": [
       "<div>\n",
       "<style scoped>\n",
       "    .dataframe tbody tr th:only-of-type {\n",
       "        vertical-align: middle;\n",
       "    }\n",
       "\n",
       "    .dataframe tbody tr th {\n",
       "        vertical-align: top;\n",
       "    }\n",
       "\n",
       "    .dataframe thead th {\n",
       "        text-align: right;\n",
       "    }\n",
       "</style>\n",
       "<table border=\"1\" class=\"dataframe\">\n",
       "  <thead>\n",
       "    <tr style=\"text-align: right;\">\n",
       "      <th></th>\n",
       "      <th>registered</th>\n",
       "      <th>Recency</th>\n",
       "      <th>Monetary</th>\n",
       "      <th>Frequency</th>\n",
       "    </tr>\n",
       "  </thead>\n",
       "  <tbody>\n",
       "    <tr>\n",
       "      <th>0</th>\n",
       "      <td>20</td>\n",
       "      <td>63</td>\n",
       "      <td>22</td>\n",
       "      <td>1</td>\n",
       "    </tr>\n",
       "    <tr>\n",
       "      <th>1</th>\n",
       "      <td>416</td>\n",
       "      <td>704</td>\n",
       "      <td>431</td>\n",
       "      <td>1</td>\n",
       "    </tr>\n",
       "    <tr>\n",
       "      <th>2</th>\n",
       "      <td>432</td>\n",
       "      <td>5</td>\n",
       "      <td>441</td>\n",
       "      <td>1</td>\n",
       "    </tr>\n",
       "    <tr>\n",
       "      <th>3</th>\n",
       "      <td>451</td>\n",
       "      <td>372</td>\n",
       "      <td>754</td>\n",
       "      <td>1</td>\n",
       "    </tr>\n",
       "    <tr>\n",
       "      <th>4</th>\n",
       "      <td>472</td>\n",
       "      <td>705</td>\n",
       "      <td>506</td>\n",
       "      <td>1</td>\n",
       "    </tr>\n",
       "  </tbody>\n",
       "</table>\n",
       "</div>"
      ],
      "text/plain": [
       "   registered  Recency  Monetary  Frequency\n",
       "0          20       63        22          1\n",
       "1         416      704       431          1\n",
       "2         432        5       441          1\n",
       "3         451      372       754          1\n",
       "4         472      705       506          1"
      ]
     },
     "execution_count": 59,
     "metadata": {},
     "output_type": "execute_result"
    }
   ],
   "source": [
    "# Analisis RFM\n",
    "current_date = pd.to_datetime(max(day_data_cleaned['dteday']))\n",
    "\n",
    "# Menghitung Recency, Frequency, Monetary\n",
    "rfm_data = day_data_cleaned.groupby('registered').agg({\n",
    "    'dteday': lambda x: (pd.to_datetime(current_date) - pd.to_datetime(x.max())).days,  # Recency\n",
    "    'cnt': 'sum',  # Monetary\n",
    "    'casual': 'count'  # Frequency\n",
    "}).reset_index()\n",
    "\n",
    "# Menampilkan data RFM\n",
    "rfm_data.columns = ['registered', 'Recency', 'Monetary', 'Frequency']\n",
    "rfm_data.head()"
   ]
  },
  {
   "cell_type": "markdown",
   "id": "499cad7d",
   "metadata": {},
   "source": [
    "### Insight:"
   ]
  },
  {
   "cell_type": "markdown",
   "id": "75b1a122",
   "metadata": {},
   "source": [
    "\n",
    "- Pengguna terdaftar menyumbang lebih banyak penyewaan dan memiliki frekuensi yang lebih tinggi dibandingkan pengguna kasual.\n",
    "    "
   ]
  },
  {
   "cell_type": "markdown",
   "id": "bd1ac805",
   "metadata": {},
   "source": [
    "## 8. Analisis Lanjutan"
   ]
  },
  {
   "cell_type": "code",
   "execution_count": 60,
   "id": "aa1753d4",
   "metadata": {},
   "outputs": [
    {
     "name": "stdout",
     "output_type": "stream",
     "text": [
      "[4139.99868972 2904.48114843 3518.29356413 3941.75787109 5053.0159343\n",
      " 6032.77607209 2406.94052792 3558.69792606 6501.71108612 5945.19989543\n",
      " 3261.31940742 3722.76506903 5578.96748569 3482.97195029 3666.83244352\n",
      " 3808.23387555 3700.86441586 5353.601428   6661.81069005 2714.79824871\n",
      " 6018.64817328 7193.81657577 4270.36765422 3132.68363321 3000.99276978\n",
      " 5807.52678355 2997.69235235 5000.10702    3128.1436892  3864.26677833\n",
      " 3005.94528228 4695.21583407 4905.79361731 5418.47208698 4683.50047484\n",
      " 3945.00022633 5981.67901041 5459.71751412 3841.13079555 2164.8758536\n",
      " 5250.27914253 3344.65141583 5928.68879608 5518.89780917 6052.15624794\n",
      " 3102.61928053 6192.9352588  4685.33564233 5897.68060218 3512.89951652\n",
      " 5346.69911655 2886.13167352 3432.67614708 7046.0841802  6061.43573576\n",
      " 5299.41744459 4456.35440589 3904.69694048 5236.48302917 6345.45134613\n",
      " 4624.35042355 6093.32568934 2930.03250385 5845.7847674  5230.63882935\n",
      " 6584.47423198 6762.51463906 7020.17088866 3376.83246038 5257.70528443\n",
      " 4998.52348031 4973.49877143 3293.96469963 5060.73599609 4183.83389611\n",
      " 4308.48386752 3223.74511407 4606.37415128 2159.38319927 6464.4246885\n",
      " 2828.47533538 3769.66207961 3138.10518097 3532.02726577 3305.16747794\n",
      " 3807.72653698 4712.68636538 3899.39828835 2971.98502529 3020.30911581\n",
      " 2450.31665008 6145.51021866 3840.51439855 4502.32836857 2979.15625522\n",
      " 2581.89473315 5393.10413806 2420.11494001 3977.92134894 6233.06990344\n",
      " 6071.20792252 5911.82499287 6174.07562923 3551.15864276 3821.19992984\n",
      " 3431.28704883 3039.41434901 3085.76159041 6533.28291721 1966.46487863\n",
      " 6587.14966587 4362.06192164 3447.25260048 5143.05218498 4303.48401707\n",
      " 4286.35049656 3432.96303893 3228.06207282 5948.21154131 2481.3264416\n",
      " 4721.34617203 3521.4779342  5096.08794855 2970.03930875 4305.52349183\n",
      " 3602.42683101 6399.69491233 3819.72534839 3885.35497374 5376.28442963\n",
      " 3344.45937082 3758.15149101 3317.88818899 3408.91774314 5957.54732774\n",
      " 3058.34845563 4463.75917412 4844.4774119  3262.2530704  6613.08193465\n",
      " 4509.52017335 4614.48841023 3485.1795977  6745.88597176 3675.69955574\n",
      " 5820.50594537 4699.04602911]\n"
     ]
    }
   ],
   "source": [
    "# Contoh model prediksi dengan Linear Regression\n",
    "X = day_data_cleaned[['hum', 'temp']]\n",
    "y = day_data_cleaned['cnt']\n",
    "\n",
    "# Memisahkan data untuk training dan testing\n",
    "X_train, X_test, y_train, y_test = train_test_split(X, y, test_size=0.2, random_state=42)\n",
    "\n",
    "# Membuat dan melatih model\n",
    "model = LinearRegression()\n",
    "model.fit(X_train, y_train)\n",
    "\n",
    "# Prediksi dan evaluasi\n",
    "predictions = model.predict(X_test)\n",
    "print(predictions)"
   ]
  },
  {
   "cell_type": "markdown",
   "id": "7446823a",
   "metadata": {},
   "source": [
    "## 9. Conclusion"
   ]
  },
  {
   "cell_type": "markdown",
   "id": "b517556f",
   "metadata": {},
   "source": [
    "\n",
    "- **Pertanyaan 1:** Kelembapan yang lebih normal memberikan kondisi terbaik untuk penyewaan sepeda.\n",
    "- **Pertanyaan 2:** Analisis RFM menunjukkan bahwa pengguna terdaftar lebih aktif dalam hal frekuensi penyewaan dan memberikan kontribusi yang lebih besar terhadap total penyewaan.\n",
    "    "
   ]
  }
 ],
 "metadata": {
  "kernelspec": {
   "display_name": "Python 3 (ipykernel)",
   "language": "python",
   "name": "python3"
  },
  "language_info": {
   "codemirror_mode": {
    "name": "ipython",
    "version": 3
   },
   "file_extension": ".py",
   "mimetype": "text/x-python",
   "name": "python",
   "nbconvert_exporter": "python",
   "pygments_lexer": "ipython3",
   "version": "3.12.4"
  }
 },
 "nbformat": 4,
 "nbformat_minor": 5
}
